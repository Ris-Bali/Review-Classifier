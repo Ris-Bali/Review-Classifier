{
 "cells": [
  {
   "cell_type": "code",
   "execution_count": 1,
   "id": "8f27aab3",
   "metadata": {
    "_cell_guid": "b1076dfc-b9ad-4769-8c92-a6c4dae69d19",
    "_uuid": "8f2839f25d086af736a60e9eeb907d3b93b6e0e5",
    "execution": {
     "iopub.execute_input": "2022-02-07T22:39:41.909500Z",
     "iopub.status.busy": "2022-02-07T22:39:41.907951Z",
     "iopub.status.idle": "2022-02-07T22:39:41.925238Z",
     "shell.execute_reply": "2022-02-07T22:39:41.925671Z",
     "shell.execute_reply.started": "2022-02-07T22:33:03.997669Z"
    },
    "papermill": {
     "duration": 0.060858,
     "end_time": "2022-02-07T22:39:41.925887",
     "exception": false,
     "start_time": "2022-02-07T22:39:41.865029",
     "status": "completed"
    },
    "tags": []
   },
   "outputs": [],
   "source": [
    "# This Python 3 environment comes with many helpful analytics libraries installed\n",
    "# It is defined by the kaggle/python Docker image: https://github.com/kaggle/docker-python\n",
    "# For example, here's several helpful packages to load\n",
    "\n",
    "import numpy as np # linear algebra\n",
    "import pandas as pd # data processing, CSV file I/O (e.g. pd.read_csv)\n",
    "\n",
    "# Input data files are available in the read-only \"../input/\" directory\n",
    "# For example, running this (by clicking run or pressing Shift+Enter) will list all files under the input directory\n",
    "\n",
    "import os\n",
    "for dirname, _, filenames in os.walk('/kaggle/input'):\n",
    "    for filename in filenames:\n",
    "        print(os.path.join(dirname, filename))\n",
    "\n",
    "# You can write up to 20GB to the current directory (/kaggle/working/) that gets preserved as output when you create a version using \"Save & Run All\" \n",
    "# You can also write temporary files to /kaggle/temp/, but they won't be saved outside of the current session"
   ]
  },
  {
   "cell_type": "code",
   "execution_count": 2,
   "id": "36704364",
   "metadata": {
    "execution": {
     "iopub.execute_input": "2022-02-07T22:39:41.979685Z",
     "iopub.status.busy": "2022-02-07T22:39:41.979080Z",
     "iopub.status.idle": "2022-02-07T22:39:53.018593Z",
     "shell.execute_reply": "2022-02-07T22:39:53.018093Z",
     "shell.execute_reply.started": "2022-02-07T22:33:04.027632Z"
    },
    "papermill": {
     "duration": 11.062467,
     "end_time": "2022-02-07T22:39:53.018722",
     "exception": false,
     "start_time": "2022-02-07T22:39:41.956255",
     "status": "completed"
    },
    "tags": []
   },
   "outputs": [],
   "source": [
    "import torch\n",
    "from torchtext.legacy import data\n",
    "SEED= 123\n",
    "torch.manual_seed(SEED)\n",
    "torch.backends.cudnn.deterministic = True\n",
    "TEXT = data.Field(tokenize = \"spacy\",tokenizer_language = 'en_core_web_sm')\n",
    "LABEL =data.LabelField(dtype = torch.float)"
   ]
  },
  {
   "cell_type": "code",
   "execution_count": 3,
   "id": "b2226cb8",
   "metadata": {
    "execution": {
     "iopub.execute_input": "2022-02-07T22:39:53.060892Z",
     "iopub.status.busy": "2022-02-07T22:39:53.060357Z",
     "iopub.status.idle": "2022-02-07T22:41:03.930701Z",
     "shell.execute_reply": "2022-02-07T22:41:03.930213Z",
     "shell.execute_reply.started": "2022-02-07T22:33:14.950488Z"
    },
    "papermill": {
     "duration": 70.893111,
     "end_time": "2022-02-07T22:41:03.930833",
     "exception": false,
     "start_time": "2022-02-07T22:39:53.037722",
     "status": "completed"
    },
    "tags": []
   },
   "outputs": [
    {
     "name": "stdout",
     "output_type": "stream",
     "text": [
      "downloading aclImdb_v1.tar.gz\n"
     ]
    },
    {
     "name": "stderr",
     "output_type": "stream",
     "text": [
      "aclImdb_v1.tar.gz: 100%|██████████| 84.1M/84.1M [00:01<00:00, 66.8MB/s]\n"
     ]
    }
   ],
   "source": [
    "from torchtext.legacy import datasets\n",
    "train_data , test_data = datasets.IMDB.splits(TEXT,LABEL)"
   ]
  },
  {
   "cell_type": "code",
   "execution_count": 4,
   "id": "ef585685",
   "metadata": {
    "execution": {
     "iopub.execute_input": "2022-02-07T22:41:03.980675Z",
     "iopub.status.busy": "2022-02-07T22:41:03.979841Z",
     "iopub.status.idle": "2022-02-07T22:41:03.984908Z",
     "shell.execute_reply": "2022-02-07T22:41:03.984524Z",
     "shell.execute_reply.started": "2022-02-07T22:34:26.569530Z"
    },
    "papermill": {
     "duration": 0.030576,
     "end_time": "2022-02-07T22:41:03.985021",
     "exception": false,
     "start_time": "2022-02-07T22:41:03.954445",
     "status": "completed"
    },
    "tags": []
   },
   "outputs": [
    {
     "name": "stdout",
     "output_type": "stream",
     "text": [
      "Number of Examples in Training set :25000\n",
      "Number of examples in test set:25000\n"
     ]
    }
   ],
   "source": [
    "print(f\"Number of Examples in Training set :{len(train_data)}\")\n",
    "print(f\"Number of examples in test set:{len(test_data)}\")"
   ]
  },
  {
   "cell_type": "code",
   "execution_count": 5,
   "id": "a768b388",
   "metadata": {
    "execution": {
     "iopub.execute_input": "2022-02-07T22:41:04.036035Z",
     "iopub.status.busy": "2022-02-07T22:41:04.035324Z",
     "iopub.status.idle": "2022-02-07T22:41:04.038292Z",
     "shell.execute_reply": "2022-02-07T22:41:04.038694Z",
     "shell.execute_reply.started": "2022-02-07T22:34:26.579355Z"
    },
    "papermill": {
     "duration": 0.0308,
     "end_time": "2022-02-07T22:41:04.038806",
     "exception": false,
     "start_time": "2022-02-07T22:41:04.008006",
     "status": "completed"
    },
    "tags": []
   },
   "outputs": [
    {
     "name": "stdout",
     "output_type": "stream",
     "text": [
      "{'text': ['This', 'is', 'probably', 'the', 'fastest', '-', 'paced', 'and', 'most', 'action', '-', 'packed', 'of', 'the', 'German', 'Edgar', 'Wallace', '\"', 'krimi', '\"', 'series', ',', 'a', 'cross', 'between', 'the', 'Dr.', 'Mabuse', 'films', 'of', 'yore', 'and', '60', \"'s\", 'pop', 'thrillers', 'like', 'Batman', 'and', 'the', 'Man', 'from', 'UNCLE', '.', 'It', 'reintroduces', 'the', 'outrageous', 'villain', 'from', 'an', 'earlier', 'film', 'who', 'dons', 'a', 'stylish', 'monk', \"'s\", 'habit', 'and', 'breaks', 'the', 'necks', 'of', 'victims', 'with', 'the', 'curl', 'of', 'a', 'deadly', 'whip', '.', 'Set', 'at', 'a', 'posh', 'girls', \"'\", 'school', 'filled', 'with', 'lecherous', 'middle', '-', 'aged', 'professors', ',', 'and', 'with', 'the', 'cops', 'fondling', 'their', 'hot', '-', 'to', '-', 'trot', 'secretaries', 'at', 'every', 'opportunity', ',', 'it', 'certainly', 'is', 'a', 'throwback', 'to', 'those', 'wonderfully', 'politically', '-', 'incorrect', 'times', '.', 'There', \"'s\", 'a', 'definite', 'link', 'to', 'a', 'later', 'Wallace', '-', 'based', 'film', ',', 'the', 'excellent', 'giallo', '\"', 'Whatever', 'Happened', 'to', 'Solange', '?', '\"', ',', 'which', 'also', 'concerns', 'female', 'students', 'being', 'corrupted', 'by', '(', 'and', 'corrupting', '?', ')', 'their', 'elders', '.', 'Quite', 'appropriate', 'to', 'the', 'monk', 'theme', ',', 'the', 'master', '-', 'mind', 'villain', 'uses', 'booby', '-', 'trapped', 'bibles', 'here', 'to', 'deal', 'some', 'of', 'the', 'death', 'blows', ',', 'and', 'also', 'maintains', 'a', 'reptile', '-', 'replete', 'dungeon', 'to', 'amuse', 'his', 'captive', 'audiences', '.', '<', 'br', '/><br', '/>Alfred', 'Vohrer', 'was', 'always', 'the', 'most', 'playful', 'and', 'visually', 'flamboyant', 'of', 'the', 'series', 'directors', ',', 'and', 'here', 'the', 'lurid', 'colour', 'cinematography', 'is', 'the', 'real', 'star', 'of', 'the', 'show', '.', 'The', 'Monk', 'appears', 'in', 'a', 'raving', 'scarlet', 'cowl', 'and', 'robe', ',', 'tastefully', 'setting', 'off', 'the', 'lustrous', 'white', 'whip', ',', 'while', 'appearing', 'against', 'purplish', '-', 'night', 'backgrounds', '.', 'There', \"'s\", 'also', 'a', 'voyeur', '-', 'friendly', 'turquoise', 'swimming', 'pool', 'which', 'looks', 'great', 'both', 'as', 'a', 'glowing', 'milieu', 'for', 'the', 'nubile', 'students', 'and', 'as', 'a', 'shadowy', 'backdrop', 'for', 'one', 'of', 'the', 'murder', 'scenes', '.', 'The', 'trademark', '\"', 'kicker', '\"', 'of', 'hiding', 'the', '\"', 'Ende', '\"', 'card', 'somewhere', 'in', 'the', 'set', 'of', 'the', 'last', 'scene', 'is', 'also', 'quite', 'memorable', 'here', '.', 'And', 'there', \"'s\", 'a', 'fine', 'brassy', 'and', 'twangy', 'score', 'for', 'retro', '-', 'music', 'fans.<br', '/><br', '/>Fans', 'of', 'the', 'series', 'will', 'definitely', 'miss', 'the', 'flippant', 'Eddie', 'Are', 'nt', 'character', 'in', 'these', 'later', 'films', '.', 'Instead', ',', 'the', 'chief', 'inspector', 'Sir', 'John', 'takes', 'on', 'the', 'role', 'of', 'buffoon', ',', 'convinced', 'that', 'he', 'has', 'mastered', 'criminal', 'psychology', 'after', 'taking', 'a', 'few', 'night', 'courses', '.', 'Unfortunately', ',', 'Klaus', 'Kinski', 'had', 'also', 'gone', 'on', 'to', 'bigger', 'and', 'better', 'things', '.', 'The', 'krimis', 'had', 'lost', 'some', 'of', 'their', 'offbeat', 'subversive', 'charm', 'by', 'this', 'point', ',', 'and', 'now', 'worked', 'on', 'a', 'much', 'more', 'blatant', 'pop', '-', 'culture', 'level', ',', 'which', 'will', 'make', 'this', 'one', 'quite', 'accessible', 'to', 'uninitiated', 'viewers', '.'], 'label': 'pos'}\n"
     ]
    }
   ],
   "source": [
    "print(vars(train_data[0]))"
   ]
  },
  {
   "cell_type": "code",
   "execution_count": 6,
   "id": "33ff508e",
   "metadata": {
    "execution": {
     "iopub.execute_input": "2022-02-07T22:41:04.144112Z",
     "iopub.status.busy": "2022-02-07T22:41:04.136870Z",
     "iopub.status.idle": "2022-02-07T22:41:04.146938Z",
     "shell.execute_reply": "2022-02-07T22:41:04.146418Z",
     "shell.execute_reply.started": "2022-02-07T22:34:26.600425Z"
    },
    "papermill": {
     "duration": 0.082616,
     "end_time": "2022-02-07T22:41:04.147084",
     "exception": false,
     "start_time": "2022-02-07T22:41:04.064468",
     "status": "completed"
    },
    "tags": []
   },
   "outputs": [],
   "source": [
    "import random \n",
    "train_data , validation_data = train_data.split(random_state = random.seed(SEED))"
   ]
  },
  {
   "cell_type": "code",
   "execution_count": 7,
   "id": "92ecde9a",
   "metadata": {
    "execution": {
     "iopub.execute_input": "2022-02-07T22:41:04.201969Z",
     "iopub.status.busy": "2022-02-07T22:41:04.201354Z",
     "iopub.status.idle": "2022-02-07T22:41:04.203959Z",
     "shell.execute_reply": "2022-02-07T22:41:04.204433Z",
     "shell.execute_reply.started": "2022-02-07T22:34:26.640727Z"
    },
    "papermill": {
     "duration": 0.032011,
     "end_time": "2022-02-07T22:41:04.204557",
     "exception": false,
     "start_time": "2022-02-07T22:41:04.172546",
     "status": "completed"
    },
    "tags": []
   },
   "outputs": [
    {
     "name": "stdout",
     "output_type": "stream",
     "text": [
      "Number of validation examples: 17500\n",
      "Number of examples in train_data :25000\n"
     ]
    }
   ],
   "source": [
    "print(f\"Number of validation examples: {len(train_data)}\")\n",
    "print(f\"Number of examples in train_data :{len(test_data)}\")"
   ]
  },
  {
   "cell_type": "code",
   "execution_count": 8,
   "id": "be11473f",
   "metadata": {
    "execution": {
     "iopub.execute_input": "2022-02-07T22:41:04.295379Z",
     "iopub.status.busy": "2022-02-07T22:41:04.258979Z",
     "iopub.status.idle": "2022-02-07T22:41:05.116849Z",
     "shell.execute_reply": "2022-02-07T22:41:05.116377Z",
     "shell.execute_reply.started": "2022-02-07T22:34:26.652898Z"
    },
    "papermill": {
     "duration": 0.888745,
     "end_time": "2022-02-07T22:41:05.116987",
     "exception": false,
     "start_time": "2022-02-07T22:41:04.228242",
     "status": "completed"
    },
    "tags": []
   },
   "outputs": [],
   "source": [
    "MAX_VOCAB_SIZE = 25_000\n",
    "TEXT.build_vocab(train_data,max_size = MAX_VOCAB_SIZE)\n",
    "LABEL.build_vocab(train_data)"
   ]
  },
  {
   "cell_type": "code",
   "execution_count": 9,
   "id": "2474132c",
   "metadata": {
    "execution": {
     "iopub.execute_input": "2022-02-07T22:41:05.169658Z",
     "iopub.status.busy": "2022-02-07T22:41:05.168989Z",
     "iopub.status.idle": "2022-02-07T22:41:05.172377Z",
     "shell.execute_reply": "2022-02-07T22:41:05.171930Z",
     "shell.execute_reply.started": "2022-02-07T22:34:27.534143Z"
    },
    "papermill": {
     "duration": 0.031308,
     "end_time": "2022-02-07T22:41:05.172480",
     "exception": false,
     "start_time": "2022-02-07T22:41:05.141172",
     "status": "completed"
    },
    "tags": []
   },
   "outputs": [
    {
     "name": "stdout",
     "output_type": "stream",
     "text": [
      "Unique words in the vocabulary:25002\n",
      "The number of unique laabels is :2\n"
     ]
    }
   ],
   "source": [
    "print(f\"Unique words in the vocabulary:{len(TEXT.vocab)}\")\n",
    "print(f\"The number of unique laabels is :{len(LABEL.vocab)}\")"
   ]
  },
  {
   "cell_type": "code",
   "execution_count": 10,
   "id": "419b057c",
   "metadata": {
    "execution": {
     "iopub.execute_input": "2022-02-07T22:41:05.241612Z",
     "iopub.status.busy": "2022-02-07T22:41:05.240937Z",
     "iopub.status.idle": "2022-02-07T22:41:05.243427Z",
     "shell.execute_reply": "2022-02-07T22:41:05.243821Z",
     "shell.execute_reply.started": "2022-02-07T22:34:27.541702Z"
    },
    "papermill": {
     "duration": 0.047617,
     "end_time": "2022-02-07T22:41:05.243930",
     "exception": false,
     "start_time": "2022-02-07T22:41:05.196313",
     "status": "completed"
    },
    "tags": []
   },
   "outputs": [
    {
     "name": "stdout",
     "output_type": "stream",
     "text": [
      "[('the', 202223), (',', 192245), ('.', 165171), ('a', 108939), ('and', 108882), ('of', 100206), ('to', 93212), ('is', 76052), ('in', 61101), ('I', 53885)]\n"
     ]
    }
   ],
   "source": [
    "print(TEXT.vocab.freqs.most_common(10))"
   ]
  },
  {
   "cell_type": "code",
   "execution_count": 11,
   "id": "5afcba28",
   "metadata": {
    "execution": {
     "iopub.execute_input": "2022-02-07T22:41:05.296916Z",
     "iopub.status.busy": "2022-02-07T22:41:05.296007Z",
     "iopub.status.idle": "2022-02-07T22:41:05.299667Z",
     "shell.execute_reply": "2022-02-07T22:41:05.299260Z",
     "shell.execute_reply.started": "2022-02-07T22:34:27.575462Z"
    },
    "papermill": {
     "duration": 0.03174,
     "end_time": "2022-02-07T22:41:05.299772",
     "exception": false,
     "start_time": "2022-02-07T22:41:05.268032",
     "status": "completed"
    },
    "tags": []
   },
   "outputs": [
    {
     "name": "stdout",
     "output_type": "stream",
     "text": [
      "['<unk>', '<pad>', 'the', ',', '.', 'a', 'and', 'of', 'to', 'is']\n",
      "6\n"
     ]
    }
   ],
   "source": [
    "print(TEXT.vocab.itos[:10])\n",
    "print(TEXT.vocab.stoi['and'])"
   ]
  },
  {
   "cell_type": "code",
   "execution_count": 12,
   "id": "902bdaea",
   "metadata": {
    "execution": {
     "iopub.execute_input": "2022-02-07T22:41:05.357258Z",
     "iopub.status.busy": "2022-02-07T22:41:05.356621Z",
     "iopub.status.idle": "2022-02-07T22:41:05.359904Z",
     "shell.execute_reply": "2022-02-07T22:41:05.360476Z",
     "shell.execute_reply.started": "2022-02-07T22:34:27.585175Z"
    },
    "papermill": {
     "duration": 0.036276,
     "end_time": "2022-02-07T22:41:05.360594",
     "exception": false,
     "start_time": "2022-02-07T22:41:05.324318",
     "status": "completed"
    },
    "tags": []
   },
   "outputs": [
    {
     "data": {
      "text/plain": [
       "device(type='cuda')"
      ]
     },
     "execution_count": 12,
     "metadata": {},
     "output_type": "execute_result"
    }
   ],
   "source": [
    "device = torch.device('cuda' if torch.cuda.is_available() else 'cpu')\n",
    "device"
   ]
  },
  {
   "cell_type": "code",
   "execution_count": 13,
   "id": "f12248b5",
   "metadata": {
    "execution": {
     "iopub.execute_input": "2022-02-07T22:41:05.414725Z",
     "iopub.status.busy": "2022-02-07T22:41:05.413978Z",
     "iopub.status.idle": "2022-02-07T22:41:05.416381Z",
     "shell.execute_reply": "2022-02-07T22:41:05.415936Z",
     "shell.execute_reply.started": "2022-02-07T22:34:27.597513Z"
    },
    "papermill": {
     "duration": 0.031144,
     "end_time": "2022-02-07T22:41:05.416486",
     "exception": false,
     "start_time": "2022-02-07T22:41:05.385342",
     "status": "completed"
    },
    "tags": []
   },
   "outputs": [],
   "source": [
    "BATCH_SIZE = 32\n",
    "train_loader,valid_loader,test_loader = data.BucketIterator.splits((train_data,validation_data,test_data),batch_size = BATCH_SIZE,device = device)"
   ]
  },
  {
   "cell_type": "code",
   "execution_count": 14,
   "id": "74e34d59",
   "metadata": {
    "execution": {
     "iopub.execute_input": "2022-02-07T22:41:05.469830Z",
     "iopub.status.busy": "2022-02-07T22:41:05.469124Z",
     "iopub.status.idle": "2022-02-07T22:41:05.471505Z",
     "shell.execute_reply": "2022-02-07T22:41:05.471077Z",
     "shell.execute_reply.started": "2022-02-07T22:34:27.611294Z"
    },
    "papermill": {
     "duration": 0.030296,
     "end_time": "2022-02-07T22:41:05.471601",
     "exception": false,
     "start_time": "2022-02-07T22:41:05.441305",
     "status": "completed"
    },
    "tags": []
   },
   "outputs": [],
   "source": [
    "import torch.nn as nn"
   ]
  },
  {
   "cell_type": "code",
   "execution_count": 15,
   "id": "1cc71bc3",
   "metadata": {
    "execution": {
     "iopub.execute_input": "2022-02-07T22:41:05.527277Z",
     "iopub.status.busy": "2022-02-07T22:41:05.526558Z",
     "iopub.status.idle": "2022-02-07T22:41:05.528533Z",
     "shell.execute_reply": "2022-02-07T22:41:05.528919Z",
     "shell.execute_reply.started": "2022-02-07T22:34:27.617875Z"
    },
    "papermill": {
     "duration": 0.032792,
     "end_time": "2022-02-07T22:41:05.529038",
     "exception": false,
     "start_time": "2022-02-07T22:41:05.496246",
     "status": "completed"
    },
    "tags": []
   },
   "outputs": [],
   "source": [
    "class RNN(nn.Module):\n",
    "    def __init__(self,input_dim,embedding_dim,hidden_dim,output_dim) :\n",
    "        super().__init__()\n",
    "        self.embedding = nn.Embedding(input_dim,embedding_dim)\n",
    "        self.rnn = nn.RNN(embedding_dim,hidden_dim)\n",
    "        self.fc = nn.Linear(hidden_dim,output_dim)\n",
    "        \n",
    "    def forward(self,text) :\n",
    "        embedded = self.embedding(text)\n",
    "        output,hidden = self.rnn(embedded)\n",
    "        \n",
    "        assert torch.equal(output[-1,:,:],hidden.squeeze(0))\n",
    "        return self.fc(hidden.squeeze(0))"
   ]
  },
  {
   "cell_type": "code",
   "execution_count": 16,
   "id": "190970b8",
   "metadata": {
    "execution": {
     "iopub.execute_input": "2022-02-07T22:41:05.584497Z",
     "iopub.status.busy": "2022-02-07T22:41:05.583838Z",
     "iopub.status.idle": "2022-02-07T22:41:05.627316Z",
     "shell.execute_reply": "2022-02-07T22:41:05.626841Z",
     "shell.execute_reply.started": "2022-02-07T22:34:27.628868Z"
    },
    "papermill": {
     "duration": 0.07331,
     "end_time": "2022-02-07T22:41:05.627420",
     "exception": false,
     "start_time": "2022-02-07T22:41:05.554110",
     "status": "completed"
    },
    "tags": []
   },
   "outputs": [],
   "source": [
    "INPUT_DIM = len(TEXT.vocab)\n",
    "EMBEDDING_DIM = 100\n",
    "HIDDEN_DIM = 256\n",
    "OUTPUT_DIM=1\n",
    "model = RNN(INPUT_DIM,EMBEDDING_DIM,HIDDEN_DIM,OUTPUT_DIM)"
   ]
  },
  {
   "cell_type": "code",
   "execution_count": 17,
   "id": "dcb78be2",
   "metadata": {
    "execution": {
     "iopub.execute_input": "2022-02-07T22:41:05.681610Z",
     "iopub.status.busy": "2022-02-07T22:41:05.680812Z",
     "iopub.status.idle": "2022-02-07T22:41:05.682762Z",
     "shell.execute_reply": "2022-02-07T22:41:05.683219Z",
     "shell.execute_reply.started": "2022-02-07T22:34:27.682769Z"
    },
    "papermill": {
     "duration": 0.030822,
     "end_time": "2022-02-07T22:41:05.683335",
     "exception": false,
     "start_time": "2022-02-07T22:41:05.652513",
     "status": "completed"
    },
    "tags": []
   },
   "outputs": [],
   "source": [
    "def parameters(model):\n",
    "    return sum(p.numel() for p in model.parameters() if p.requires_grad)"
   ]
  },
  {
   "cell_type": "code",
   "execution_count": 18,
   "id": "2740877d",
   "metadata": {
    "execution": {
     "iopub.execute_input": "2022-02-07T22:41:05.737407Z",
     "iopub.status.busy": "2022-02-07T22:41:05.736724Z",
     "iopub.status.idle": "2022-02-07T22:41:05.739282Z",
     "shell.execute_reply": "2022-02-07T22:41:05.739680Z",
     "shell.execute_reply.started": "2022-02-07T22:34:27.691545Z"
    },
    "papermill": {
     "duration": 0.031625,
     "end_time": "2022-02-07T22:41:05.739789",
     "exception": false,
     "start_time": "2022-02-07T22:41:05.708164",
     "status": "completed"
    },
    "tags": []
   },
   "outputs": [
    {
     "name": "stdout",
     "output_type": "stream",
     "text": [
      "No of params in model is :2592105\n"
     ]
    }
   ],
   "source": [
    "params= parameters(model)\n",
    "print(f\"No of params in model is :{params}\")"
   ]
  },
  {
   "cell_type": "code",
   "execution_count": 19,
   "id": "ac26d82b",
   "metadata": {
    "execution": {
     "iopub.execute_input": "2022-02-07T22:41:05.794032Z",
     "iopub.status.busy": "2022-02-07T22:41:05.793300Z",
     "iopub.status.idle": "2022-02-07T22:41:05.795203Z",
     "shell.execute_reply": "2022-02-07T22:41:05.795605Z",
     "shell.execute_reply.started": "2022-02-07T22:34:27.698026Z"
    },
    "papermill": {
     "duration": 0.030859,
     "end_time": "2022-02-07T22:41:05.795715",
     "exception": false,
     "start_time": "2022-02-07T22:41:05.764856",
     "status": "completed"
    },
    "tags": []
   },
   "outputs": [],
   "source": [
    "import torch.optim as optim\n",
    "optimizer = optim.Adam(model.parameters(),lr = 1e-3)"
   ]
  },
  {
   "cell_type": "code",
   "execution_count": 20,
   "id": "b832841d",
   "metadata": {
    "execution": {
     "iopub.execute_input": "2022-02-07T22:41:05.849430Z",
     "iopub.status.busy": "2022-02-07T22:41:05.848661Z",
     "iopub.status.idle": "2022-02-07T22:41:05.850660Z",
     "shell.execute_reply": "2022-02-07T22:41:05.851127Z",
     "shell.execute_reply.started": "2022-02-07T22:34:27.706552Z"
    },
    "papermill": {
     "duration": 0.030644,
     "end_time": "2022-02-07T22:41:05.851244",
     "exception": false,
     "start_time": "2022-02-07T22:41:05.820600",
     "status": "completed"
    },
    "tags": []
   },
   "outputs": [],
   "source": [
    "criterion = nn.BCEWithLogitsLoss()"
   ]
  },
  {
   "cell_type": "code",
   "execution_count": 21,
   "id": "9af73085",
   "metadata": {
    "execution": {
     "iopub.execute_input": "2022-02-07T22:41:05.908187Z",
     "iopub.status.busy": "2022-02-07T22:41:05.907585Z",
     "iopub.status.idle": "2022-02-07T22:41:14.329729Z",
     "shell.execute_reply": "2022-02-07T22:41:14.329236Z",
     "shell.execute_reply.started": "2022-02-07T22:34:27.714522Z"
    },
    "papermill": {
     "duration": 8.453176,
     "end_time": "2022-02-07T22:41:14.329863",
     "exception": false,
     "start_time": "2022-02-07T22:41:05.876687",
     "status": "completed"
    },
    "tags": []
   },
   "outputs": [],
   "source": [
    "model = model.to(device)\n",
    "criterion = criterion.to(device)\n"
   ]
  },
  {
   "cell_type": "code",
   "execution_count": 22,
   "id": "6a1f1b2d",
   "metadata": {
    "execution": {
     "iopub.execute_input": "2022-02-07T22:41:14.386717Z",
     "iopub.status.busy": "2022-02-07T22:41:14.385919Z",
     "iopub.status.idle": "2022-02-07T22:41:14.387888Z",
     "shell.execute_reply": "2022-02-07T22:41:14.388300Z",
     "shell.execute_reply.started": "2022-02-07T22:34:35.745454Z"
    },
    "papermill": {
     "duration": 0.032734,
     "end_time": "2022-02-07T22:41:14.388425",
     "exception": false,
     "start_time": "2022-02-07T22:41:14.355691",
     "status": "completed"
    },
    "tags": []
   },
   "outputs": [],
   "source": [
    "def accuracy(preds,y) :\n",
    "    rounded_preds = torch.round(torch.sigmoid(preds))\n",
    "    correct = (rounded_preds==y).float()\n",
    "    acc = correct.sum()/len(correct)\n",
    "    return acc"
   ]
  },
  {
   "cell_type": "code",
   "execution_count": 23,
   "id": "9d2112a6",
   "metadata": {
    "execution": {
     "iopub.execute_input": "2022-02-07T22:41:14.445064Z",
     "iopub.status.busy": "2022-02-07T22:41:14.444464Z",
     "iopub.status.idle": "2022-02-07T22:41:14.446668Z",
     "shell.execute_reply": "2022-02-07T22:41:14.447026Z",
     "shell.execute_reply.started": "2022-02-07T22:35:25.571886Z"
    },
    "papermill": {
     "duration": 0.033571,
     "end_time": "2022-02-07T22:41:14.447177",
     "exception": false,
     "start_time": "2022-02-07T22:41:14.413606",
     "status": "completed"
    },
    "tags": []
   },
   "outputs": [],
   "source": [
    "def train(model,iterator,optimizer,criterion) :\n",
    "    epoch_loss=0\n",
    "    epoch_acc=0\n",
    "    model.train()\n",
    "    \n",
    "    for batch in iterator :\n",
    "        optimizer.zero_grad()\n",
    "        predictions = model(batch.text).squeeze(1)\n",
    "        loss = criterion(predictions,batch.label)\n",
    "        loss = criterion(predictions,batch.label)\n",
    "        acc = accuracy(predictions,batch.label)\n",
    "        loss.backward()\n",
    "        optimizer.step()\n",
    "        epoch_loss += loss.item()\n",
    "        epoch_acc += acc.item()\n",
    "        \n",
    "    return epoch_loss/len(iterator),epoch_acc/len(iterator)   "
   ]
  },
  {
   "cell_type": "code",
   "execution_count": 24,
   "id": "b58f1af2",
   "metadata": {
    "execution": {
     "iopub.execute_input": "2022-02-07T22:41:14.503018Z",
     "iopub.status.busy": "2022-02-07T22:41:14.500844Z",
     "iopub.status.idle": "2022-02-07T22:41:14.505300Z",
     "shell.execute_reply": "2022-02-07T22:41:14.504856Z",
     "shell.execute_reply.started": "2022-02-07T22:35:27.415165Z"
    },
    "papermill": {
     "duration": 0.033072,
     "end_time": "2022-02-07T22:41:14.505401",
     "exception": false,
     "start_time": "2022-02-07T22:41:14.472329",
     "status": "completed"
    },
    "tags": []
   },
   "outputs": [],
   "source": [
    "def evaluate(model, iterator, criterion):\n",
    "    \n",
    "    epoch_loss = 0\n",
    "    epoch_acc = 0\n",
    "    \n",
    "    model.eval()\n",
    "    \n",
    "    with torch.no_grad():\n",
    "    \n",
    "        for batch in iterator:\n",
    "\n",
    "            predictions = model(batch.text).squeeze(1)\n",
    "            \n",
    "            loss = criterion(predictions, batch.label)\n",
    "            \n",
    "            acc = accuracy(predictions, batch.label)\n",
    "\n",
    "            epoch_loss += loss.item()\n",
    "            epoch_acc += acc.item()\n",
    "        \n",
    "    return epoch_loss / len(iterator), epoch_acc / len(iterator)"
   ]
  },
  {
   "cell_type": "code",
   "execution_count": 25,
   "id": "b8561162",
   "metadata": {
    "execution": {
     "iopub.execute_input": "2022-02-07T22:41:14.560258Z",
     "iopub.status.busy": "2022-02-07T22:41:14.559523Z",
     "iopub.status.idle": "2022-02-07T22:41:14.561499Z",
     "shell.execute_reply": "2022-02-07T22:41:14.561959Z",
     "shell.execute_reply.started": "2022-02-07T22:35:29.780702Z"
    },
    "papermill": {
     "duration": 0.031596,
     "end_time": "2022-02-07T22:41:14.562154",
     "exception": false,
     "start_time": "2022-02-07T22:41:14.530558",
     "status": "completed"
    },
    "tags": []
   },
   "outputs": [],
   "source": [
    "import time\n",
    "\n",
    "def epoch_time(start_time, end_time):\n",
    "    elapsed_time = end_time - start_time\n",
    "    elapsed_mins = int(elapsed_time / 60)\n",
    "    elapsed_secs = int(elapsed_time - (elapsed_mins * 60))\n",
    "    return elapsed_mins, elapsed_secs"
   ]
  },
  {
   "cell_type": "code",
   "execution_count": 26,
   "id": "b70071a7",
   "metadata": {
    "execution": {
     "iopub.execute_input": "2022-02-07T22:41:14.615238Z",
     "iopub.status.busy": "2022-02-07T22:41:14.614461Z",
     "iopub.status.idle": "2022-02-07T22:43:12.177793Z",
     "shell.execute_reply": "2022-02-07T22:43:12.178245Z",
     "shell.execute_reply.started": "2022-02-07T22:35:32.329816Z"
    },
    "papermill": {
     "duration": 117.591071,
     "end_time": "2022-02-07T22:43:12.178412",
     "exception": false,
     "start_time": "2022-02-07T22:41:14.587341",
     "status": "completed"
    },
    "tags": []
   },
   "outputs": [
    {
     "name": "stdout",
     "output_type": "stream",
     "text": [
      "Epoch: 01 | Epoch Time: 0m 24s\n",
      "\tTrain Loss: 0.701 | Train Acc: 49.97%\n",
      "\t Val. Loss: 0.694 |  Val. Acc: 50.73%\n",
      "Epoch: 02 | Epoch Time: 0m 23s\n",
      "\tTrain Loss: 0.700 | Train Acc: 49.56%\n",
      "\t Val. Loss: 0.695 |  Val. Acc: 51.00%\n",
      "Epoch: 03 | Epoch Time: 0m 23s\n",
      "\tTrain Loss: 0.699 | Train Acc: 49.81%\n",
      "\t Val. Loss: 0.695 |  Val. Acc: 51.12%\n",
      "Epoch: 04 | Epoch Time: 0m 23s\n",
      "\tTrain Loss: 0.699 | Train Acc: 49.42%\n",
      "\t Val. Loss: 0.695 |  Val. Acc: 50.70%\n",
      "Epoch: 05 | Epoch Time: 0m 23s\n",
      "\tTrain Loss: 0.698 | Train Acc: 49.06%\n",
      "\t Val. Loss: 0.694 |  Val. Acc: 51.14%\n"
     ]
    }
   ],
   "source": [
    "N_EPOCHS = 5\n",
    "\n",
    "best_valid_loss = float('inf')\n",
    "\n",
    "for epoch in range(N_EPOCHS):\n",
    "\n",
    "    start_time = time.time()\n",
    "    \n",
    "    train_loss, train_acc = train(model, train_loader, optimizer, criterion)\n",
    "    valid_loss, valid_acc = evaluate(model, valid_loader, criterion)\n",
    "    \n",
    "    end_time = time.time()\n",
    "\n",
    "    epoch_mins, epoch_secs = epoch_time(start_time, end_time)\n",
    "    \n",
    "    if valid_loss < best_valid_loss:\n",
    "        best_valid_loss = valid_loss\n",
    "        torch.save(model.state_dict(), 'tut1-model.pt')\n",
    "    \n",
    "    print(f'Epoch: {epoch+1:02} | Epoch Time: {epoch_mins}m {epoch_secs}s')\n",
    "    print(f'\\tTrain Loss: {train_loss:.3f} | Train Acc: {train_acc*100:.2f}%')\n",
    "    print(f'\\t Val. Loss: {valid_loss:.3f} |  Val. Acc: {valid_acc*100:.2f}%')"
   ]
  },
  {
   "cell_type": "code",
   "execution_count": 27,
   "id": "f2ad496c",
   "metadata": {
    "execution": {
     "iopub.execute_input": "2022-02-07T22:43:12.253653Z",
     "iopub.status.busy": "2022-02-07T22:43:12.244792Z",
     "iopub.status.idle": "2022-02-07T22:43:18.238666Z",
     "shell.execute_reply": "2022-02-07T22:43:18.239088Z",
     "shell.execute_reply.started": "2022-02-07T22:39:09.051213Z"
    },
    "papermill": {
     "duration": 6.034216,
     "end_time": "2022-02-07T22:43:18.239231",
     "exception": false,
     "start_time": "2022-02-07T22:43:12.205015",
     "status": "completed"
    },
    "tags": []
   },
   "outputs": [
    {
     "name": "stdout",
     "output_type": "stream",
     "text": [
      "Test Loss: 0.692 | Test Acc: 47.11%\n"
     ]
    }
   ],
   "source": [
    "\n",
    "\n",
    "test_loss, test_acc = evaluate(model, test_loader, criterion)\n",
    "\n",
    "print(f'Test Loss: {test_loss:.3f} | Test Acc: {test_acc*100:.2f}%')"
   ]
  },
  {
   "cell_type": "code",
   "execution_count": null,
   "id": "6b9af84a",
   "metadata": {
    "papermill": {
     "duration": 0.026433,
     "end_time": "2022-02-07T22:43:18.292763",
     "exception": false,
     "start_time": "2022-02-07T22:43:18.266330",
     "status": "completed"
    },
    "tags": []
   },
   "outputs": [],
   "source": []
  }
 ],
 "metadata": {
  "kernelspec": {
   "display_name": "Python 3",
   "language": "python",
   "name": "python3"
  },
  "language_info": {
   "codemirror_mode": {
    "name": "ipython",
    "version": 3
   },
   "file_extension": ".py",
   "mimetype": "text/x-python",
   "name": "python",
   "nbconvert_exporter": "python",
   "pygments_lexer": "ipython3",
   "version": "3.7.12"
  },
  "papermill": {
   "default_parameters": {},
   "duration": 227.442952,
   "end_time": "2022-02-07T22:43:21.422699",
   "environment_variables": {},
   "exception": null,
   "input_path": "__notebook__.ipynb",
   "output_path": "__notebook__.ipynb",
   "parameters": {},
   "start_time": "2022-02-07T22:39:33.979747",
   "version": "2.3.3"
  }
 },
 "nbformat": 4,
 "nbformat_minor": 5
}
